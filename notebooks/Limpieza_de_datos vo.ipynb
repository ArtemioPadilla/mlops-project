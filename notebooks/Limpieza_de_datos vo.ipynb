{
  "cells": [
    {
      "cell_type": "markdown",
      "metadata": {
        "id": "UB1wPDQYS9Hz"
      },
      "source": [
        "# Pipeline solo con el archivo modificado"
      ]
    },
    {
      "cell_type": "markdown",
      "metadata": {
        "id": "bLcKzjneT5cE"
      },
      "source": [
        "**Cargar archivo modificado**"
      ]
    },
    {
      "cell_type": "code",
      "execution_count": 16,
      "metadata": {},
      "outputs": [
        {
          "name": "stdout",
          "output_type": "stream",
          "text": [
            "c:\\Users\\oscar\\mlops-project\\mlops-project\\notebooks\n"
          ]
        }
      ],
      "source": [
        "import os\n",
        "\n",
        "print(os.getcwd())\n",
        "\n"
      ]
    },
    {
      "cell_type": "code",
      "execution_count": 17,
      "metadata": {
        "id": "gMGjf3GxUWir"
      },
      "outputs": [],
      "source": [
        "import pandas as pd\n",
        "import numpy as np\n",
        "mod = pd.read_csv(\"../data/online_news_modified.csv\")"
      ]
    },
    {
      "cell_type": "markdown",
      "metadata": {
        "id": "RbEUHLFSUpDO"
      },
      "source": [
        "**Mantener solo las columnas esperadas (si hay extras, se ignoran)**"
      ]
    },
    {
      "cell_type": "code",
      "execution_count": 18,
      "metadata": {
        "id": "YenSruzbUsZ7"
      },
      "outputs": [
        {
          "name": "stdout",
          "output_type": "stream",
          "text": [
            "⚠️ Columnas extra ignoradas: ['mixed_type_col']\n"
          ]
        }
      ],
      "source": [
        "expected_cols = [\n",
        "    \"url\",\"timedelta\",\"n_tokens_title\",\"n_tokens_content\",\"n_unique_tokens\",\n",
        "    \"n_non_stop_words\",\"n_non_stop_unique_tokens\",\"num_hrefs\",\"num_self_hrefs\",\n",
        "    \"num_imgs\",\"num_videos\",\"average_token_length\",\"num_keywords\",\n",
        "    \"data_channel_is_lifestyle\",\"data_channel_is_entertainment\",\"data_channel_is_bus\",\n",
        "    \"data_channel_is_socmed\",\"data_channel_is_tech\",\"data_channel_is_world\",\n",
        "    \"kw_min_min\",\"kw_max_min\",\"kw_avg_min\",\"kw_min_max\",\"kw_max_max\",\"kw_avg_max\",\n",
        "    \"kw_min_avg\",\"kw_max_avg\",\"kw_avg_avg\",\n",
        "    \"self_reference_min_shares\",\"self_reference_max_shares\",\"self_reference_avg_sharess\",\n",
        "    \"weekday_is_monday\",\"weekday_is_tuesday\",\"weekday_is_wednesday\",\"weekday_is_thursday\",\n",
        "    \"weekday_is_friday\",\"weekday_is_saturday\",\"weekday_is_sunday\",\"is_weekend\",\n",
        "    \"LDA_00\",\"LDA_01\",\"LDA_02\",\"LDA_03\",\"LDA_04\",\n",
        "    \"global_subjectivity\",\"global_sentiment_polarity\",\n",
        "    \"global_rate_positive_words\",\"global_rate_negative_words\",\n",
        "    \"rate_positive_words\",\"rate_negative_words\",\n",
        "    \"avg_positive_polarity\",\"min_positive_polarity\",\"max_positive_polarity\",\n",
        "    \"avg_negative_polarity\",\"min_negative_polarity\",\"max_negative_polarity\",\n",
        "    \"title_subjectivity\",\"title_sentiment_polarity\",\n",
        "    \"abs_title_subjectivity\",\"abs_title_sentiment_polarity\",\n",
        "    \"shares\"\n",
        "]\n",
        "extra_cols = [c for c in mod.columns if c not in expected_cols]\n",
        "missing_cols = [c for c in expected_cols if c not in mod.columns]\n",
        "if extra_cols: print(\"⚠️ Columnas extra ignoradas:\", extra_cols)\n",
        "if missing_cols: print(\"⚠️ Columnas esperadas que no encontré (seguiré sin ellas):\", missing_cols)\n",
        "\n",
        "keep_cols = [c for c in expected_cols if c in mod.columns]\n",
        "mod = mod[keep_cols]"
      ]
    },
    {
      "cell_type": "markdown",
      "metadata": {
        "id": "kC7bS5azVY78"
      },
      "source": [
        "**Forzar tipos numéricos en todo excepto 'url'**"
      ]
    },
    {
      "cell_type": "code",
      "execution_count": 19,
      "metadata": {
        "id": "yYVh8MFyVe0D"
      },
      "outputs": [],
      "source": [
        "for c in mod.columns:\n",
        "    if c == \"url\":\n",
        "        continue\n",
        "    if mod[c].dtype == \"O\":\n",
        "        # intenta arreglar decimales con coma si existieran\n",
        "        mod[c] = (\n",
        "            mod[c]\n",
        "            .astype(str)\n",
        "            .str.replace(\",\", \".\", regex=False)\n",
        "            .replace({\"nan\": np.nan, \"None\": np.nan, \"NA\": np.nan, \"\": np.nan})\n",
        "        )\n",
        "    mod[c] = pd.to_numeric(mod[c], errors=\"coerce\")\n"
      ]
    },
    {
      "cell_type": "markdown",
      "metadata": {
        "id": "iQ36uyQcVrbD"
      },
      "source": [
        "**Reglas de negocio: límites duros / binarios / proporciones / polaridades**"
      ]
    },
    {
      "cell_type": "code",
      "execution_count": 20,
      "metadata": {
        "id": "F86PEu-fVubT"
      },
      "outputs": [],
      "source": [
        "# timedelta\n",
        "if \"timedelta\" in mod.columns:\n",
        "    mod[\"timedelta\"] = mod[\"timedelta\"].clip(0, 731)\n",
        "\n",
        "# columnas binarias\n",
        "binary_cols = [c for c in mod.columns if c.startswith(\"weekday_is_\")] + \\\n",
        "              [c for c in mod.columns if c.startswith(\"data_channel_is_\")] + \\\n",
        "              ([\"is_weekend\"] if \"is_weekend\" in mod.columns else [])\n",
        "for c in binary_cols:\n",
        "    mod[c] = mod[c].clip(0, 1).round().fillna(0)\n",
        "\n",
        "# proporciones en [0,1]\n",
        "clip_01 = [\n",
        "    \"n_unique_tokens\",\"n_non_stop_words\",\"n_non_stop_unique_tokens\",\n",
        "    \"global_subjectivity\",\"global_rate_positive_words\",\"global_rate_negative_words\",\n",
        "    \"rate_positive_words\",\"rate_negative_words\",\n",
        "    \"title_subjectivity\",\"abs_title_subjectivity\",\"abs_title_sentiment_polarity\",\n",
        "    \"LDA_00\",\"LDA_01\",\"LDA_02\",\"LDA_03\",\"LDA_04\",\n",
        "    \"avg_positive_polarity\",\"min_positive_polarity\",\"max_positive_polarity\",\n",
        "]\n",
        "for c in clip_01:\n",
        "    if c in mod.columns:\n",
        "        mod[c] = mod[c].clip(0, 1)\n",
        "\n",
        "# polaridades con negativos\n",
        "clip_m11 = [\"global_sentiment_polarity\",\"title_sentiment_polarity\"]\n",
        "for c in clip_m11:\n",
        "    if c in mod.columns:\n",
        "        mod[c] = mod[c].clip(-1, 1)\n",
        "\n",
        "neg_pol = [\"avg_negative_polarity\",\"min_negative_polarity\",\"max_negative_polarity\"]\n",
        "for c in neg_pol:\n",
        "    if c in mod.columns:\n",
        "        mod[c] = mod[c].clip(-1, 0)\n",
        "\n",
        "# límites específicos\n",
        "if \"num_keywords\" in mod.columns:\n",
        "    mod[\"num_keywords\"] = mod[\"num_keywords\"].clip(0, 10)"
      ]
    },
    {
      "cell_type": "markdown",
      "metadata": {
        "id": "eALutdV5WYUT"
      },
      "source": [
        "**Winsorización (1%-99%) para numéricas que NO tienen rango fijo**"
      ]
    },
    {
      "cell_type": "code",
      "execution_count": 21,
      "metadata": {
        "id": "HC5tGq9EWkSS"
      },
      "outputs": [],
      "source": [
        "fixed_cols = set([\"url\"]) | set(binary_cols) | set(clip_01) | set(clip_m11) | set(neg_pol) | {\"timedelta\",\"num_keywords\"}\n",
        "num_cols = [c for c in mod.select_dtypes(include=[np.number]).columns if c not in fixed_cols]\n",
        "\n",
        "def winsorize(s, low=0.01, high=0.99):\n",
        "    if s.notna().sum() == 0:\n",
        "        return s\n",
        "    ql = s.quantile(low)\n",
        "    qh = s.quantile(high)\n",
        "    # Si todos NaN o qh<ql por datos raros, solo devuelve s\n",
        "    if pd.isna(ql) or pd.isna(qh) or qh < ql:\n",
        "        return s\n",
        "    return s.clip(ql, qh)\n",
        "\n",
        "for c in num_cols:\n",
        "    mod[c] = winsorize(mod[c])"
      ]
    },
    {
      "cell_type": "markdown",
      "metadata": {
        "id": "3E2_rG5VWo1a"
      },
      "source": [
        "**Normalizar LDA para que por fila sumen ≈1 (si existen)**"
      ]
    },
    {
      "cell_type": "code",
      "execution_count": 22,
      "metadata": {
        "id": "-TW2y80QXbvk"
      },
      "outputs": [],
      "source": [
        "lda_cols = [c for c in [\"LDA_00\",\"LDA_01\",\"LDA_02\",\"LDA_03\",\"LDA_04\"] if c in mod.columns]\n",
        "if lda_cols:\n",
        "    s = mod[lda_cols].sum(axis=1)\n",
        "    mask = s > 0\n",
        "    mod.loc[mask, lda_cols] = mod.loc[mask, lda_cols].div(s[mask], axis=0)\n"
      ]
    },
    {
      "cell_type": "markdown",
      "metadata": {
        "id": "XtFPzlI60888"
      },
      "source": [
        "**Eliminar valores nulos de primary key**\n",
        "\n"
      ]
    },
    {
      "cell_type": "code",
      "execution_count": 23,
      "metadata": {
        "id": "iYBxFbgg0888"
      },
      "outputs": [],
      "source": [
        "primary_key = 'url'\n",
        "mod = mod[mod['url'].notna() & (mod['url'] != '')]\n",
        "\n",
        "# Guarda solo los datos que empiezan con http\n",
        "\n",
        "mod['url'] = mod['url'].astype(str)\n",
        "mod['url'] = mod['url'].str.lower()\n",
        "\n",
        "# Elimina espacios antes y despues del url\n",
        "mod['url'] = mod['url'].str.strip()\n",
        "mod = mod[mod['url'].str.startswith('http', na=False)]"
      ]
    },
    {
      "cell_type": "markdown",
      "metadata": {
        "id": "O77vWjDY0888"
      },
      "source": [
        "**Imputacion valores faltantes**"
      ]
    },
    {
      "cell_type": "code",
      "execution_count": 24,
      "metadata": {
        "colab": {
          "base_uri": "https://localhost:8080/"
        },
        "id": "ZLPXwqCs0888",
        "outputId": "07899360-fd0c-48c5-f2d0-7b06ff7717c3"
      },
      "outputs": [
        {
          "name": "stdout",
          "output_type": "stream",
          "text": [
            "✅ Columna 'timedelta' (sesgo=0.12) -> Imputada con la MEDIA (357.40).\n",
            "🟡 Columna 'n_tokens_title' (sesgo=9.28) -> Imputada con la MEDIANA (10.00).\n",
            "🟡 Columna 'n_tokens_content' (sesgo=1.97) -> Imputada con la MEDIANA (413.00).\n",
            "✅ Columna 'n_unique_tokens' (sesgo=-1.00) -> Imputada con la MEDIA (0.54).\n",
            "🟡 Columna 'n_non_stop_words' (sesgo=-5.55) -> Imputada con la MEDIANA (1.00).\n",
            "🟡 Columna 'n_non_stop_unique_tokens' (sesgo=-2.24) -> Imputada con la MEDIANA (0.69).\n",
            "🟡 Columna 'num_hrefs' (sesgo=4.48) -> Imputada con la MEDIANA (8.00).\n",
            "🟡 Columna 'num_self_hrefs' (sesgo=4.46) -> Imputada con la MEDIANA (3.00).\n",
            "🟡 Columna 'num_imgs' (sesgo=3.55) -> Imputada con la MEDIANA (1.00).\n",
            "🟡 Columna 'num_videos' (sesgo=4.59) -> Imputada con la MEDIANA (0.00).\n",
            "🟡 Columna 'average_token_length' (sesgo=9.52) -> Imputada con la MEDIANA (4.67).\n",
            "✅ Columna 'num_keywords' (sesgo=-0.15) -> Imputada con la MEDIA (7.25).\n",
            "🟡 Columna 'data_channel_is_lifestyle' (sesgo=3.83) -> Imputada con la MEDIANA (0.00).\n",
            "🟡 Columna 'data_channel_is_entertainment' (sesgo=1.67) -> Imputada con la MEDIANA (0.00).\n",
            "🟡 Columna 'data_channel_is_bus' (sesgo=1.86) -> Imputada con la MEDIANA (0.00).\n",
            "🟡 Columna 'data_channel_is_socmed' (sesgo=3.63) -> Imputada con la MEDIANA (0.00).\n",
            "🟡 Columna 'data_channel_is_tech' (sesgo=1.61) -> Imputada con la MEDIANA (0.00).\n",
            "🟡 Columna 'data_channel_is_world' (sesgo=1.40) -> Imputada con la MEDIANA (0.00).\n",
            "🟡 Columna 'kw_min_min' (sesgo=2.29) -> Imputada con la MEDIANA (-1.00).\n",
            "🟡 Columna 'kw_max_min' (sesgo=5.32) -> Imputada con la MEDIANA (666.00).\n",
            "🟡 Columna 'kw_avg_min' (sesgo=4.37) -> Imputada con la MEDIANA (237.75).\n",
            "🟡 Columna 'kw_min_max' (sesgo=4.87) -> Imputada con la MEDIANA (1400.00).\n",
            "🟡 Columna 'kw_max_max' (sesgo=-2.66) -> Imputada con la MEDIANA (843300.00).\n",
            "✅ Columna 'kw_avg_max' (sesgo=0.62) -> Imputada con la MEDIA (261229.52).\n",
            "✅ Columna 'kw_min_avg' (sesgo=0.47) -> Imputada con la MEDIA (1124.57).\n",
            "🟡 Columna 'kw_max_avg' (sesgo=4.68) -> Imputada con la MEDIANA (4364.79).\n",
            "🟡 Columna 'kw_avg_avg' (sesgo=1.54) -> Imputada con la MEDIANA (2875.92).\n",
            "🟡 Columna 'self_reference_min_shares' (sesgo=4.97) -> Imputada con la MEDIANA (1200.00).\n",
            "🟡 Columna 'self_reference_max_shares' (sesgo=3.98) -> Imputada con la MEDIANA (2900.00).\n",
            "🟡 Columna 'self_reference_avg_sharess' (sesgo=4.66) -> Imputada con la MEDIANA (2200.00).\n",
            "🟡 Columna 'weekday_is_monday' (sesgo=1.76) -> Imputada con la MEDIANA (0.00).\n",
            "🟡 Columna 'weekday_is_tuesday' (sesgo=1.59) -> Imputada con la MEDIANA (0.00).\n",
            "🟡 Columna 'weekday_is_wednesday' (sesgo=1.59) -> Imputada con la MEDIANA (0.00).\n",
            "🟡 Columna 'weekday_is_thursday' (sesgo=1.64) -> Imputada con la MEDIANA (0.00).\n",
            "🟡 Columna 'weekday_is_friday' (sesgo=2.01) -> Imputada con la MEDIANA (0.00).\n",
            "🟡 Columna 'weekday_is_saturday' (sesgo=3.52) -> Imputada con la MEDIANA (0.00).\n",
            "🟡 Columna 'weekday_is_sunday' (sesgo=3.30) -> Imputada con la MEDIANA (0.00).\n",
            "🟡 Columna 'is_weekend' (sesgo=2.16) -> Imputada con la MEDIANA (0.00).\n",
            "🟡 Columna 'LDA_00' (sesgo=1.54) -> Imputada con la MEDIANA (0.03).\n",
            "🟡 Columna 'LDA_01' (sesgo=2.01) -> Imputada con la MEDIANA (0.03).\n",
            "🟡 Columna 'LDA_02' (sesgo=1.29) -> Imputada con la MEDIANA (0.04).\n",
            "🟡 Columna 'LDA_03' (sesgo=1.22) -> Imputada con la MEDIANA (0.04).\n",
            "🟡 Columna 'LDA_04' (sesgo=1.15) -> Imputada con la MEDIANA (0.05).\n",
            "✅ Columna 'global_subjectivity' (sesgo=-0.38) -> Imputada con la MEDIA (0.45).\n",
            "🟡 Columna 'global_sentiment_polarity' (sesgo=2.41) -> Imputada con la MEDIANA (0.12).\n",
            "🟡 Columna 'global_rate_positive_words' (sesgo=9.76) -> Imputada con la MEDIANA (0.04).\n",
            "🟡 Columna 'global_rate_negative_words' (sesgo=10.41) -> Imputada con la MEDIANA (0.02).\n",
            "🟡 Columna 'rate_positive_words' (sesgo=-1.38) -> Imputada con la MEDIANA (0.71).\n",
            "✅ Columna 'rate_negative_words' (sesgo=0.91) -> Imputada con la MEDIA (0.30).\n",
            "✅ Columna 'avg_positive_polarity' (sesgo=0.80) -> Imputada con la MEDIA (0.36).\n",
            "🟡 Columna 'min_positive_polarity' (sesgo=5.41) -> Imputada con la MEDIANA (0.10).\n",
            "✅ Columna 'max_positive_polarity' (sesgo=-0.95) -> Imputada con la MEDIA (0.76).\n",
            "🟡 Columna 'avg_negative_polarity' (sesgo=-1.05) -> Imputada con la MEDIANA (-0.25).\n",
            "✅ Columna 'min_negative_polarity' (sesgo=-0.06) -> Imputada con la MEDIA (-0.52).\n",
            "🟡 Columna 'max_negative_polarity' (sesgo=-4.26) -> Imputada con la MEDIANA (-0.10).\n",
            "✅ Columna 'title_subjectivity' (sesgo=0.81) -> Imputada con la MEDIA (0.29).\n",
            "✅ Columna 'title_sentiment_polarity' (sesgo=0.50) -> Imputada con la MEDIA (0.08).\n",
            "✅ Columna 'abs_title_subjectivity' (sesgo=-0.28) -> Imputada con la MEDIA (0.35).\n",
            "🟡 Columna 'abs_title_sentiment_polarity' (sesgo=1.74) -> Imputada con la MEDIANA (0.00).\n",
            "🟡 Columna 'shares' (sesgo=4.80) -> Imputada con la MEDIANA (1400.00).\n"
          ]
        }
      ],
      "source": [
        "for columna in mod.columns[1:]:\n",
        "    # Se calcula el sesgo (skewness) de la columna actual\n",
        "    sesgo = mod[columna].skew()\n",
        "\n",
        "    # Condición: si el sesgo está entre -1 y 1 (distribución simétrica)\n",
        "    if -1 < sesgo < 1:\n",
        "        # Se imputan los valores faltantes con la MEDIA\n",
        "        valor_imputacion = mod[columna].mean()\n",
        "        mod[columna] = mod[columna].fillna(valor_imputacion)\n",
        "        print(f\"✅ Columna '{columna}' (sesgo={sesgo:.2f}) -> Imputada con la MEDIA ({valor_imputacion:.2f}).\")\n",
        "\n",
        "    # Si el sesgo es mayor a 1 o menor a -1 (distribución sesgada)\n",
        "    else:\n",
        "        # Se imputan los valores faltantes con la MEDIANA\n",
        "        valor_imputacion = mod[columna].median()\n",
        "        mod[columna] = mod[columna].fillna(valor_imputacion)\n",
        "        print(f\"🟡 Columna '{columna}' (sesgo={sesgo:.2f}) -> Imputada con la MEDIANA ({valor_imputacion:.2f}).\")\n",
        "\n"
      ]
    },
    {
      "cell_type": "markdown",
      "metadata": {
        "id": "spWNwmIpXfVB"
      },
      "source": [
        "**Guardar limpio**"
      ]
    },
    {
      "cell_type": "code",
      "execution_count": 25,
      "metadata": {
        "colab": {
          "base_uri": "https://localhost:8080/"
        },
        "id": "k16ZuvD2Xjtq",
        "outputId": "c9a05242-32ce-4abf-baa6-34b4ef116446"
      },
      "outputs": [
        {
          "name": "stdout",
          "output_type": "stream",
          "text": [
            "✅ Guardado: online_news_cleaned.csv\n",
            "Shape limpio: (40010, 61)\n"
          ]
        }
      ],
      "source": [
        "mod.to_csv(\"../data/online_news_cleaned.csv\", index=False)\n",
        "print(\"✅ Guardado: online_news_cleaned.csv\")\n",
        "print(\"Shape limpio:\", mod.shape)"
      ]
    },
    {
      "cell_type": "markdown",
      "metadata": {
        "id": "gZ78TqgyYm9r"
      },
      "source": [
        "**Mini-resumen para revisar rápido**"
      ]
    },
    {
      "cell_type": "code",
      "execution_count": 26,
      "metadata": {
        "colab": {
          "base_uri": "https://localhost:8080/",
          "height": 380
        },
        "id": "w1CEfHKQXvuR",
        "outputId": "b1f2d8d5-670b-4dec-a076-8a661e1f5986"
      },
      "outputs": [
        {
          "name": "stdout",
          "output_type": "stream",
          "text": [
            "📄 Guardado resumen: resumen_cleaned.csv\n"
          ]
        },
        {
          "data": {
            "text/html": [
              "<div>\n",
              "<style scoped>\n",
              "    .dataframe tbody tr th:only-of-type {\n",
              "        vertical-align: middle;\n",
              "    }\n",
              "\n",
              "    .dataframe tbody tr th {\n",
              "        vertical-align: top;\n",
              "    }\n",
              "\n",
              "    .dataframe thead th {\n",
              "        text-align: right;\n",
              "    }\n",
              "</style>\n",
              "<table border=\"1\" class=\"dataframe\">\n",
              "  <thead>\n",
              "    <tr style=\"text-align: right;\">\n",
              "      <th></th>\n",
              "      <th>min</th>\n",
              "      <th>max</th>\n",
              "      <th>mean</th>\n",
              "      <th>median</th>\n",
              "    </tr>\n",
              "  </thead>\n",
              "  <tbody>\n",
              "    <tr>\n",
              "      <th>timedelta</th>\n",
              "      <td>8.0</td>\n",
              "      <td>731.00</td>\n",
              "      <td>357.398092</td>\n",
              "      <td>347.000000</td>\n",
              "    </tr>\n",
              "    <tr>\n",
              "      <th>n_tokens_title</th>\n",
              "      <td>6.0</td>\n",
              "      <td>124.16</td>\n",
              "      <td>11.537167</td>\n",
              "      <td>10.000000</td>\n",
              "    </tr>\n",
              "    <tr>\n",
              "      <th>n_tokens_content</th>\n",
              "      <td>0.0</td>\n",
              "      <td>2640.80</td>\n",
              "      <td>551.298060</td>\n",
              "      <td>413.000000</td>\n",
              "    </tr>\n",
              "    <tr>\n",
              "      <th>n_unique_tokens</th>\n",
              "      <td>0.0</td>\n",
              "      <td>1.00</td>\n",
              "      <td>0.535094</td>\n",
              "      <td>0.538462</td>\n",
              "    </tr>\n",
              "    <tr>\n",
              "      <th>n_non_stop_words</th>\n",
              "      <td>0.0</td>\n",
              "      <td>1.00</td>\n",
              "      <td>0.970807</td>\n",
              "      <td>1.000000</td>\n",
              "    </tr>\n",
              "    <tr>\n",
              "      <th>n_non_stop_unique_tokens</th>\n",
              "      <td>0.0</td>\n",
              "      <td>1.00</td>\n",
              "      <td>0.676425</td>\n",
              "      <td>0.691743</td>\n",
              "    </tr>\n",
              "    <tr>\n",
              "      <th>num_hrefs</th>\n",
              "      <td>0.0</td>\n",
              "      <td>120.00</td>\n",
              "      <td>11.870682</td>\n",
              "      <td>8.000000</td>\n",
              "    </tr>\n",
              "    <tr>\n",
              "      <th>num_self_hrefs</th>\n",
              "      <td>0.0</td>\n",
              "      <td>36.73</td>\n",
              "      <td>3.579641</td>\n",
              "      <td>3.000000</td>\n",
              "    </tr>\n",
              "    <tr>\n",
              "      <th>num_imgs</th>\n",
              "      <td>0.0</td>\n",
              "      <td>61.00</td>\n",
              "      <td>4.918595</td>\n",
              "      <td>1.000000</td>\n",
              "    </tr>\n",
              "    <tr>\n",
              "      <th>num_videos</th>\n",
              "      <td>0.0</td>\n",
              "      <td>26.00</td>\n",
              "      <td>1.334141</td>\n",
              "      <td>0.000000</td>\n",
              "    </tr>\n",
              "  </tbody>\n",
              "</table>\n",
              "</div>"
            ],
            "text/plain": [
              "                          min      max        mean      median\n",
              "timedelta                 8.0   731.00  357.398092  347.000000\n",
              "n_tokens_title            6.0   124.16   11.537167   10.000000\n",
              "n_tokens_content          0.0  2640.80  551.298060  413.000000\n",
              "n_unique_tokens           0.0     1.00    0.535094    0.538462\n",
              "n_non_stop_words          0.0     1.00    0.970807    1.000000\n",
              "n_non_stop_unique_tokens  0.0     1.00    0.676425    0.691743\n",
              "num_hrefs                 0.0   120.00   11.870682    8.000000\n",
              "num_self_hrefs            0.0    36.73    3.579641    3.000000\n",
              "num_imgs                  0.0    61.00    4.918595    1.000000\n",
              "num_videos                0.0    26.00    1.334141    0.000000"
            ]
          },
          "execution_count": 26,
          "metadata": {},
          "output_type": "execute_result"
        }
      ],
      "source": [
        "# 8) Mini-resumen para revisar rápido\n",
        "resumen = pd.DataFrame({\n",
        "    \"min\": mod.select_dtypes(include=[np.number]).min(),\n",
        "    \"max\": mod.select_dtypes(include=[np.number]).max(),\n",
        "    \"mean\": mod.select_dtypes(include=[np.number]).mean(),\n",
        "    \"median\": mod.select_dtypes(include=[np.number]).median(),\n",
        "})\n",
        "#resumen.to_csv(\"../data/resumen_cleaned.csv\")\n",
        "print(\"📄 Guardado resumen: resumen_cleaned.csv\")\n",
        "resumen.head(10)"
      ]
    },
    {
      "cell_type": "markdown",
      "metadata": {
        "id": "wLmjQx2yZYaB"
      },
      "source": [
        "**Comparar el limpio contra el original para validar que todo quedó coherente.**"
      ]
    },
    {
      "cell_type": "code",
      "execution_count": 27,
      "metadata": {
        "colab": {
          "base_uri": "https://localhost:8080/",
          "height": 572
        },
        "id": "cuzZBp9wZUW7",
        "outputId": "48e07122-a896-40d8-f64a-8ca74da13a47"
      },
      "outputs": [
        {
          "name": "stdout",
          "output_type": "stream",
          "text": [
            "Original shape: (39644, 61)\n",
            "Cleaned shape: (40010, 61)\n",
            "📊 Comparación guardada en comparacion_final.csv\n"
          ]
        },
        {
          "data": {
            "text/html": [
              "<div>\n",
              "<style scoped>\n",
              "    .dataframe tbody tr th:only-of-type {\n",
              "        vertical-align: middle;\n",
              "    }\n",
              "\n",
              "    .dataframe tbody tr th {\n",
              "        vertical-align: top;\n",
              "    }\n",
              "\n",
              "    .dataframe thead th {\n",
              "        text-align: right;\n",
              "    }\n",
              "</style>\n",
              "<table border=\"1\" class=\"dataframe\">\n",
              "  <thead>\n",
              "    <tr style=\"text-align: right;\">\n",
              "      <th></th>\n",
              "      <th>mean_orig</th>\n",
              "      <th>mean_clean</th>\n",
              "      <th>median_orig</th>\n",
              "      <th>median_clean</th>\n",
              "      <th>diff_mean</th>\n",
              "      <th>diff_median</th>\n",
              "      <th>missing_orig_%</th>\n",
              "      <th>missing_clean_%</th>\n",
              "    </tr>\n",
              "  </thead>\n",
              "  <tbody>\n",
              "    <tr>\n",
              "      <th>timedelta</th>\n",
              "      <td>354.530471</td>\n",
              "      <td>357.398092</td>\n",
              "      <td>339.000000</td>\n",
              "      <td>347.000000</td>\n",
              "      <td>2.867621</td>\n",
              "      <td>8.000000e+00</td>\n",
              "      <td>0.0</td>\n",
              "      <td>0.0</td>\n",
              "    </tr>\n",
              "    <tr>\n",
              "      <th>n_tokens_title</th>\n",
              "      <td>10.398749</td>\n",
              "      <td>11.537167</td>\n",
              "      <td>10.000000</td>\n",
              "      <td>10.000000</td>\n",
              "      <td>1.138418</td>\n",
              "      <td>0.000000e+00</td>\n",
              "      <td>0.0</td>\n",
              "      <td>0.0</td>\n",
              "    </tr>\n",
              "    <tr>\n",
              "      <th>n_tokens_content</th>\n",
              "      <td>546.514731</td>\n",
              "      <td>551.298060</td>\n",
              "      <td>409.000000</td>\n",
              "      <td>413.000000</td>\n",
              "      <td>4.783329</td>\n",
              "      <td>4.000000e+00</td>\n",
              "      <td>0.0</td>\n",
              "      <td>0.0</td>\n",
              "    </tr>\n",
              "    <tr>\n",
              "      <th>n_unique_tokens</th>\n",
              "      <td>0.548216</td>\n",
              "      <td>0.535094</td>\n",
              "      <td>0.539226</td>\n",
              "      <td>0.538462</td>\n",
              "      <td>0.013122</td>\n",
              "      <td>7.640113e-04</td>\n",
              "      <td>0.0</td>\n",
              "      <td>0.0</td>\n",
              "    </tr>\n",
              "    <tr>\n",
              "      <th>n_non_stop_words</th>\n",
              "      <td>0.996469</td>\n",
              "      <td>0.970807</td>\n",
              "      <td>1.000000</td>\n",
              "      <td>1.000000</td>\n",
              "      <td>0.025661</td>\n",
              "      <td>4.799994e-11</td>\n",
              "      <td>0.0</td>\n",
              "      <td>0.0</td>\n",
              "    </tr>\n",
              "    <tr>\n",
              "      <th>n_non_stop_unique_tokens</th>\n",
              "      <td>0.689175</td>\n",
              "      <td>0.676425</td>\n",
              "      <td>0.690476</td>\n",
              "      <td>0.691743</td>\n",
              "      <td>0.012750</td>\n",
              "      <td>1.266930e-03</td>\n",
              "      <td>0.0</td>\n",
              "      <td>0.0</td>\n",
              "    </tr>\n",
              "    <tr>\n",
              "      <th>num_hrefs</th>\n",
              "      <td>10.883690</td>\n",
              "      <td>11.870682</td>\n",
              "      <td>8.000000</td>\n",
              "      <td>8.000000</td>\n",
              "      <td>0.986992</td>\n",
              "      <td>0.000000e+00</td>\n",
              "      <td>0.0</td>\n",
              "      <td>0.0</td>\n",
              "    </tr>\n",
              "    <tr>\n",
              "      <th>num_self_hrefs</th>\n",
              "      <td>3.293638</td>\n",
              "      <td>3.579641</td>\n",
              "      <td>3.000000</td>\n",
              "      <td>3.000000</td>\n",
              "      <td>0.286002</td>\n",
              "      <td>0.000000e+00</td>\n",
              "      <td>0.0</td>\n",
              "      <td>0.0</td>\n",
              "    </tr>\n",
              "    <tr>\n",
              "      <th>num_imgs</th>\n",
              "      <td>4.544143</td>\n",
              "      <td>4.918595</td>\n",
              "      <td>1.000000</td>\n",
              "      <td>1.000000</td>\n",
              "      <td>0.374452</td>\n",
              "      <td>0.000000e+00</td>\n",
              "      <td>0.0</td>\n",
              "      <td>0.0</td>\n",
              "    </tr>\n",
              "    <tr>\n",
              "      <th>num_videos</th>\n",
              "      <td>1.249874</td>\n",
              "      <td>1.334141</td>\n",
              "      <td>0.000000</td>\n",
              "      <td>0.000000</td>\n",
              "      <td>0.084268</td>\n",
              "      <td>0.000000e+00</td>\n",
              "      <td>0.0</td>\n",
              "      <td>0.0</td>\n",
              "    </tr>\n",
              "    <tr>\n",
              "      <th>average_token_length</th>\n",
              "      <td>4.548239</td>\n",
              "      <td>5.271088</td>\n",
              "      <td>4.664082</td>\n",
              "      <td>4.667170</td>\n",
              "      <td>0.722849</td>\n",
              "      <td>3.087656e-03</td>\n",
              "      <td>0.0</td>\n",
              "      <td>0.0</td>\n",
              "    </tr>\n",
              "    <tr>\n",
              "      <th>num_keywords</th>\n",
              "      <td>7.223767</td>\n",
              "      <td>7.247812</td>\n",
              "      <td>7.000000</td>\n",
              "      <td>7.000000</td>\n",
              "      <td>0.024045</td>\n",
              "      <td>0.000000e+00</td>\n",
              "      <td>0.0</td>\n",
              "      <td>0.0</td>\n",
              "    </tr>\n",
              "    <tr>\n",
              "      <th>data_channel_is_lifestyle</th>\n",
              "      <td>0.052946</td>\n",
              "      <td>0.056786</td>\n",
              "      <td>0.000000</td>\n",
              "      <td>0.000000</td>\n",
              "      <td>0.003840</td>\n",
              "      <td>0.000000e+00</td>\n",
              "      <td>0.0</td>\n",
              "      <td>0.0</td>\n",
              "    </tr>\n",
              "    <tr>\n",
              "      <th>data_channel_is_entertainment</th>\n",
              "      <td>0.178009</td>\n",
              "      <td>0.179330</td>\n",
              "      <td>0.000000</td>\n",
              "      <td>0.000000</td>\n",
              "      <td>0.001321</td>\n",
              "      <td>0.000000e+00</td>\n",
              "      <td>0.0</td>\n",
              "      <td>0.0</td>\n",
              "    </tr>\n",
              "    <tr>\n",
              "      <th>data_channel_is_bus</th>\n",
              "      <td>0.157855</td>\n",
              "      <td>0.159885</td>\n",
              "      <td>0.000000</td>\n",
              "      <td>0.000000</td>\n",
              "      <td>0.002030</td>\n",
              "      <td>0.000000e+00</td>\n",
              "      <td>0.0</td>\n",
              "      <td>0.0</td>\n",
              "    </tr>\n",
              "  </tbody>\n",
              "</table>\n",
              "</div>"
            ],
            "text/plain": [
              "                                mean_orig  mean_clean  median_orig  \\\n",
              "timedelta                      354.530471  357.398092   339.000000   \n",
              "n_tokens_title                  10.398749   11.537167    10.000000   \n",
              "n_tokens_content               546.514731  551.298060   409.000000   \n",
              "n_unique_tokens                  0.548216    0.535094     0.539226   \n",
              "n_non_stop_words                 0.996469    0.970807     1.000000   \n",
              "n_non_stop_unique_tokens         0.689175    0.676425     0.690476   \n",
              "num_hrefs                       10.883690   11.870682     8.000000   \n",
              "num_self_hrefs                   3.293638    3.579641     3.000000   \n",
              "num_imgs                         4.544143    4.918595     1.000000   \n",
              "num_videos                       1.249874    1.334141     0.000000   \n",
              "average_token_length             4.548239    5.271088     4.664082   \n",
              "num_keywords                     7.223767    7.247812     7.000000   \n",
              "data_channel_is_lifestyle        0.052946    0.056786     0.000000   \n",
              "data_channel_is_entertainment    0.178009    0.179330     0.000000   \n",
              "data_channel_is_bus              0.157855    0.159885     0.000000   \n",
              "\n",
              "                               median_clean  diff_mean   diff_median  \\\n",
              "timedelta                        347.000000   2.867621  8.000000e+00   \n",
              "n_tokens_title                    10.000000   1.138418  0.000000e+00   \n",
              "n_tokens_content                 413.000000   4.783329  4.000000e+00   \n",
              "n_unique_tokens                    0.538462   0.013122  7.640113e-04   \n",
              "n_non_stop_words                   1.000000   0.025661  4.799994e-11   \n",
              "n_non_stop_unique_tokens           0.691743   0.012750  1.266930e-03   \n",
              "num_hrefs                          8.000000   0.986992  0.000000e+00   \n",
              "num_self_hrefs                     3.000000   0.286002  0.000000e+00   \n",
              "num_imgs                           1.000000   0.374452  0.000000e+00   \n",
              "num_videos                         0.000000   0.084268  0.000000e+00   \n",
              "average_token_length               4.667170   0.722849  3.087656e-03   \n",
              "num_keywords                       7.000000   0.024045  0.000000e+00   \n",
              "data_channel_is_lifestyle          0.000000   0.003840  0.000000e+00   \n",
              "data_channel_is_entertainment      0.000000   0.001321  0.000000e+00   \n",
              "data_channel_is_bus                0.000000   0.002030  0.000000e+00   \n",
              "\n",
              "                               missing_orig_%  missing_clean_%  \n",
              "timedelta                                 0.0              0.0  \n",
              "n_tokens_title                            0.0              0.0  \n",
              "n_tokens_content                          0.0              0.0  \n",
              "n_unique_tokens                           0.0              0.0  \n",
              "n_non_stop_words                          0.0              0.0  \n",
              "n_non_stop_unique_tokens                  0.0              0.0  \n",
              "num_hrefs                                 0.0              0.0  \n",
              "num_self_hrefs                            0.0              0.0  \n",
              "num_imgs                                  0.0              0.0  \n",
              "num_videos                                0.0              0.0  \n",
              "average_token_length                      0.0              0.0  \n",
              "num_keywords                              0.0              0.0  \n",
              "data_channel_is_lifestyle                 0.0              0.0  \n",
              "data_channel_is_entertainment             0.0              0.0  \n",
              "data_channel_is_bus                       0.0              0.0  "
            ]
          },
          "metadata": {},
          "output_type": "display_data"
        }
      ],
      "source": [
        "import pandas as pd\n",
        "\n",
        "# 1) Cargar archivos\n",
        "orig = pd.read_csv(\"../data/online_news_original.csv\")\n",
        "clean = pd.read_csv(\"../data/online_news_cleaned.csv\")\n",
        "\n",
        "print(\"Original shape:\", orig.shape)\n",
        "print(\"Cleaned shape:\", clean.shape)\n",
        "\n",
        "# 2) Comparar estadísticas descriptivas (media y mediana)\n",
        "comparacion = pd.DataFrame({\n",
        "    \"mean_orig\": orig.mean(numeric_only=True),\n",
        "    \"mean_clean\": clean.mean(numeric_only=True),\n",
        "    \"median_orig\": orig.median(numeric_only=True),\n",
        "    \"median_clean\": clean.median(numeric_only=True),\n",
        "})\n",
        "\n",
        "# 3) Agregar diferencias absolutas\n",
        "comparacion[\"diff_mean\"] = (comparacion[\"mean_clean\"] - comparacion[\"mean_orig\"]).abs()\n",
        "comparacion[\"diff_median\"] = (comparacion[\"median_clean\"] - comparacion[\"median_orig\"]).abs()\n",
        "\n",
        "# 4) Proporción de valores faltantes\n",
        "comparacion[\"missing_orig_%\"] = (orig.isna().sum() / len(orig)) * 100\n",
        "comparacion[\"missing_clean_%\"] = (clean.isna().sum() / len(clean)) * 100\n",
        "\n",
        "# 5) Guardar en CSV para revisión detallada\n",
        "#comparacion.to_csv(\"../data/comparacion_final.csv\")\n",
        "print(\"📊 Comparación guardada en comparacion_final.csv\")\n",
        "\n",
        "# 6) Mostrar primeras filas\n",
        "display(comparacion.head(15))\n",
        "\n"
      ]
    },
    {
      "cell_type": "markdown",
      "metadata": {},
      "source": [
        "**Informacion del data frame limpio**"
      ]
    },
    {
      "cell_type": "code",
      "execution_count": 29,
      "metadata": {
        "colab": {
          "base_uri": "https://localhost:8080/"
        },
        "id": "Wl9oJQtA0889",
        "outputId": "78a0ad02-12d4-4a39-f5df-1c36ef7ca393"
      },
      "outputs": [
        {
          "name": "stdout",
          "output_type": "stream",
          "text": [
            "<class 'pandas.core.frame.DataFrame'>\n",
            "RangeIndex: 40010 entries, 0 to 40009\n",
            "Data columns (total 61 columns):\n",
            " #   Column                         Non-Null Count  Dtype  \n",
            "---  ------                         --------------  -----  \n",
            " 0   url                            40010 non-null  object \n",
            " 1   timedelta                      40010 non-null  float64\n",
            " 2   n_tokens_title                 40010 non-null  float64\n",
            " 3   n_tokens_content               40010 non-null  float64\n",
            " 4   n_unique_tokens                40010 non-null  float64\n",
            " 5   n_non_stop_words               40010 non-null  float64\n",
            " 6   n_non_stop_unique_tokens       40010 non-null  float64\n",
            " 7   num_hrefs                      40010 non-null  float64\n",
            " 8   num_self_hrefs                 40010 non-null  float64\n",
            " 9   num_imgs                       40010 non-null  float64\n",
            " 10  num_videos                     40010 non-null  float64\n",
            " 11  average_token_length           40010 non-null  float64\n",
            " 12  num_keywords                   40010 non-null  float64\n",
            " 13  data_channel_is_lifestyle      40010 non-null  float64\n",
            " 14  data_channel_is_entertainment  40010 non-null  float64\n",
            " 15  data_channel_is_bus            40010 non-null  float64\n",
            " 16  data_channel_is_socmed         40010 non-null  float64\n",
            " 17  data_channel_is_tech           40010 non-null  float64\n",
            " 18  data_channel_is_world          40010 non-null  float64\n",
            " 19  kw_min_min                     40010 non-null  float64\n",
            " 20  kw_max_min                     40010 non-null  float64\n",
            " 21  kw_avg_min                     40010 non-null  float64\n",
            " 22  kw_min_max                     40010 non-null  float64\n",
            " 23  kw_max_max                     40010 non-null  float64\n",
            " 24  kw_avg_max                     40010 non-null  float64\n",
            " 25  kw_min_avg                     40010 non-null  float64\n",
            " 26  kw_max_avg                     40010 non-null  float64\n",
            " 27  kw_avg_avg                     40010 non-null  float64\n",
            " 28  self_reference_min_shares      40010 non-null  float64\n",
            " 29  self_reference_max_shares      40010 non-null  float64\n",
            " 30  self_reference_avg_sharess     40010 non-null  float64\n",
            " 31  weekday_is_monday              40010 non-null  float64\n",
            " 32  weekday_is_tuesday             40010 non-null  float64\n",
            " 33  weekday_is_wednesday           40010 non-null  float64\n",
            " 34  weekday_is_thursday            40010 non-null  float64\n",
            " 35  weekday_is_friday              40010 non-null  float64\n",
            " 36  weekday_is_saturday            40010 non-null  float64\n",
            " 37  weekday_is_sunday              40010 non-null  float64\n",
            " 38  is_weekend                     40010 non-null  float64\n",
            " 39  LDA_00                         40010 non-null  float64\n",
            " 40  LDA_01                         40010 non-null  float64\n",
            " 41  LDA_02                         40010 non-null  float64\n",
            " 42  LDA_03                         40010 non-null  float64\n",
            " 43  LDA_04                         40010 non-null  float64\n",
            " 44  global_subjectivity            40010 non-null  float64\n",
            " 45  global_sentiment_polarity      40010 non-null  float64\n",
            " 46  global_rate_positive_words     40010 non-null  float64\n",
            " 47  global_rate_negative_words     40010 non-null  float64\n",
            " 48  rate_positive_words            40010 non-null  float64\n",
            " 49  rate_negative_words            40010 non-null  float64\n",
            " 50  avg_positive_polarity          40010 non-null  float64\n",
            " 51  min_positive_polarity          40010 non-null  float64\n",
            " 52  max_positive_polarity          40010 non-null  float64\n",
            " 53  avg_negative_polarity          40010 non-null  float64\n",
            " 54  min_negative_polarity          40010 non-null  float64\n",
            " 55  max_negative_polarity          40010 non-null  float64\n",
            " 56  title_subjectivity             40010 non-null  float64\n",
            " 57  title_sentiment_polarity       40010 non-null  float64\n",
            " 58  abs_title_subjectivity         40010 non-null  float64\n",
            " 59  abs_title_sentiment_polarity   40010 non-null  float64\n",
            " 60  shares                         40010 non-null  float64\n",
            "dtypes: float64(60), object(1)\n",
            "memory usage: 18.6+ MB\n"
          ]
        }
      ],
      "source": [
        "clean.info()"
      ]
    }
  ],
  "metadata": {
    "colab": {
      "provenance": []
    },
    "kernelspec": {
      "display_name": ".venv",
      "language": "python",
      "name": "python3"
    },
    "language_info": {
      "codemirror_mode": {
        "name": "ipython",
        "version": 3
      },
      "file_extension": ".py",
      "mimetype": "text/x-python",
      "name": "python",
      "nbconvert_exporter": "python",
      "pygments_lexer": "ipython3",
      "version": "3.12.4"
    }
  },
  "nbformat": 4,
  "nbformat_minor": 0
}
